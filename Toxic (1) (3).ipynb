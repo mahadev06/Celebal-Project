{
 "cells": [
  {
   "cell_type": "code",
   "execution_count": 1,
   "id": "622443fc",
   "metadata": {
    "id": "622443fc"
   },
   "outputs": [],
   "source": [
    "# Import necessary libraries\n",
    "import pandas as pd\n",
    "import numpy as np\n",
    "import nltk\n",
    "import re\n",
    "from nltk.corpus import stopwords\n",
    "from nltk.stem import PorterStemmer, WordNetLemmatizer\n",
    "from sklearn.model_selection import train_test_split\n",
    "from sklearn.feature_extraction.text import CountVectorizer, TfidfVectorizer\n",
    "from sklearn.multioutput import MultiOutputClassifier\n",
    "from sklearn.ensemble import RandomForestClassifier\n",
    "from sklearn.metrics import accuracy_score, f1_score, classification_report\n",
    "from keras.models import Sequential\n",
    "from keras.layers import Dense, Embedding, LSTM\n",
    "from flask import Flask, request, jsonify\n",
    "from keras.optimizers import Adam\n",
    "from gensim.models import Word2Vec\n",
    "from nltk.stem import SnowballStemmer, WordNetLemmatizer"
   ]
  },
  {
   "cell_type": "code",
   "execution_count": 2,
   "id": "dymRy_KZhi4K",
   "metadata": {
    "colab": {
     "base_uri": "https://localhost:8080/"
    },
    "id": "dymRy_KZhi4K",
    "outputId": "1c18c14a-7fa6-49f9-98c2-ef9684f12f47"
   },
   "outputs": [],
   "source": [
    "#from google.colab import drive\n",
    "#drive.mount('/content/drive')"
   ]
  },
  {
   "cell_type": "code",
   "execution_count": 3,
   "id": "5956bb62",
   "metadata": {
    "id": "5956bb62"
   },
   "outputs": [],
   "source": [
    "# Load the datasets\n",
    "train_data = pd.read_csv('train.csv')\n",
    "test_data = pd.read_csv('test.csv')"
   ]
  },
  {
   "cell_type": "code",
   "execution_count": 4,
   "id": "9bd31cde",
   "metadata": {
    "colab": {
     "base_uri": "https://localhost:8080/"
    },
    "id": "9bd31cde",
    "outputId": "bd88481b-7170-4597-e001-29a7537a1ba0"
   },
   "outputs": [
    {
     "name": "stdout",
     "output_type": "stream",
     "text": [
      "                 id                                       comment_text  toxic  \\\n",
      "0  0000997932d777bf  Explanation\\nWhy the edits made under my usern...      0   \n",
      "1  000103f0d9cfb60f  D'aww! He matches this background colour I'm s...      0   \n",
      "2  000113f07ec002fd  Hey man, I'm really not trying to edit war. It...      0   \n",
      "3  0001b41b1c6bb37e  \"\\nMore\\nI can't make any real suggestions on ...      0   \n",
      "4  0001d958c54c6e35  You, sir, are my hero. Any chance you remember...      0   \n",
      "\n",
      "   severe_toxic  obscene  threat  insult  identity_hate  \n",
      "0             0        0       0       0              0  \n",
      "1             0        0       0       0              0  \n",
      "2             0        0       0       0              0  \n",
      "3             0        0       0       0              0  \n",
      "4             0        0       0       0              0  \n"
     ]
    }
   ],
   "source": [
    "# Display the first few rows of the dataset\n",
    "print(train_data.head())"
   ]
  },
  {
   "cell_type": "code",
   "execution_count": 5,
   "id": "a822259e",
   "metadata": {
    "colab": {
     "base_uri": "https://localhost:8080/"
    },
    "id": "a822259e",
    "outputId": "9cd525ba-35ee-4af2-f2aa-6198c201c64f"
   },
   "outputs": [
    {
     "name": "stdout",
     "output_type": "stream",
     "text": [
      "               toxic   severe_toxic        obscene         threat  \\\n",
      "count  159571.000000  159571.000000  159571.000000  159571.000000   \n",
      "mean        0.095844       0.009996       0.052948       0.002996   \n",
      "std         0.294379       0.099477       0.223931       0.054650   \n",
      "min         0.000000       0.000000       0.000000       0.000000   \n",
      "25%         0.000000       0.000000       0.000000       0.000000   \n",
      "50%         0.000000       0.000000       0.000000       0.000000   \n",
      "75%         0.000000       0.000000       0.000000       0.000000   \n",
      "max         1.000000       1.000000       1.000000       1.000000   \n",
      "\n",
      "              insult  identity_hate  \n",
      "count  159571.000000  159571.000000  \n",
      "mean        0.049364       0.008805  \n",
      "std         0.216627       0.093420  \n",
      "min         0.000000       0.000000  \n",
      "25%         0.000000       0.000000  \n",
      "50%         0.000000       0.000000  \n",
      "75%         0.000000       0.000000  \n",
      "max         1.000000       1.000000  \n"
     ]
    }
   ],
   "source": [
    "# Get the summary statistics of the dataset\n",
    "print(train_data.describe())"
   ]
  },
  {
   "cell_type": "code",
   "execution_count": 6,
   "id": "c42088d5",
   "metadata": {
    "colab": {
     "base_uri": "https://localhost:8080/"
    },
    "id": "c42088d5",
    "outputId": "14a5c4e7-3a0d-4e2d-e787-ca35dd956412"
   },
   "outputs": [
    {
     "name": "stdout",
     "output_type": "stream",
     "text": [
      "<class 'pandas.core.frame.DataFrame'>\n",
      "RangeIndex: 159571 entries, 0 to 159570\n",
      "Data columns (total 8 columns):\n",
      " #   Column         Non-Null Count   Dtype \n",
      "---  ------         --------------   ----- \n",
      " 0   id             159571 non-null  object\n",
      " 1   comment_text   159571 non-null  object\n",
      " 2   toxic          159571 non-null  int64 \n",
      " 3   severe_toxic   159571 non-null  int64 \n",
      " 4   obscene        159571 non-null  int64 \n",
      " 5   threat         159571 non-null  int64 \n",
      " 6   insult         159571 non-null  int64 \n",
      " 7   identity_hate  159571 non-null  int64 \n",
      "dtypes: int64(6), object(2)\n",
      "memory usage: 9.7+ MB\n",
      "None\n"
     ]
    }
   ],
   "source": [
    "# Check the data types and missing values\n",
    "print(train_data.info())"
   ]
  },
  {
   "cell_type": "code",
   "execution_count": 7,
   "id": "ee195413",
   "metadata": {
    "id": "ee195413"
   },
   "outputs": [],
   "source": [
    "# Analyze the distribution of each toxicity class\n",
    "toxicity_classes = ['toxic', 'severe_toxic', 'obscene', 'threat', 'insult', 'identity_hate']"
   ]
  },
  {
   "cell_type": "code",
   "execution_count": 8,
   "id": "35f382c3",
   "metadata": {
    "id": "35f382c3"
   },
   "outputs": [],
   "source": [
    "# Count the number of comments for each toxicity class\n",
    "toxicity_counts = train_data[toxicity_classes].sum()"
   ]
  },
  {
   "cell_type": "code",
   "execution_count": 9,
   "id": "15691afe",
   "metadata": {
    "colab": {
     "base_uri": "https://localhost:8080/"
    },
    "id": "15691afe",
    "outputId": "f093e78c-1cfc-44f2-9104-d90575a0ef31"
   },
   "outputs": [
    {
     "name": "stdout",
     "output_type": "stream",
     "text": [
      "Distribution of each toxicity class:\n",
      "toxic            15294\n",
      "severe_toxic      1595\n",
      "obscene           8449\n",
      "threat             478\n",
      "insult            7877\n",
      "identity_hate     1405\n",
      "dtype: int64\n"
     ]
    }
   ],
   "source": [
    "# Display the counts of each toxicity class\n",
    "print(\"Distribution of each toxicity class:\")\n",
    "print(toxicity_counts)"
   ]
  },
  {
   "cell_type": "code",
   "execution_count": null,
   "id": "e14efdd3",
   "metadata": {
    "id": "e14efdd3"
   },
   "outputs": [],
   "source": []
  },
  {
   "cell_type": "code",
   "execution_count": 10,
   "id": "897552d7",
   "metadata": {
    "colab": {
     "base_uri": "https://localhost:8080/"
    },
    "id": "897552d7",
    "outputId": "e21a3183-2b3b-49a6-e564-c5d86c984ac1"
   },
   "outputs": [
    {
     "name": "stderr",
     "output_type": "stream",
     "text": [
      "[nltk_data] Downloading package punkt to\n",
      "[nltk_data]     C:\\Users\\KIIT\\AppData\\Roaming\\nltk_data...\n",
      "[nltk_data]   Package punkt is already up-to-date!\n",
      "[nltk_data] Downloading package wordnet to\n",
      "[nltk_data]     C:\\Users\\KIIT\\AppData\\Roaming\\nltk_data...\n",
      "[nltk_data]   Package wordnet is already up-to-date!\n",
      "[nltk_data] Downloading package averaged_perceptron_tagger to\n",
      "[nltk_data]     C:\\Users\\KIIT\\AppData\\Roaming\\nltk_data...\n",
      "[nltk_data]   Package averaged_perceptron_tagger is already up-to-\n",
      "[nltk_data]       date!\n",
      "[nltk_data] Downloading package stopwords to\n",
      "[nltk_data]     C:\\Users\\KIIT\\AppData\\Roaming\\nltk_data...\n",
      "[nltk_data]   Package stopwords is already up-to-date!\n"
     ]
    },
    {
     "data": {
      "text/plain": [
       "True"
      ]
     },
     "execution_count": 10,
     "metadata": {},
     "output_type": "execute_result"
    }
   ],
   "source": [
    "import nltk\n",
    "nltk.download('punkt')\n",
    "nltk.download('wordnet')\n",
    "nltk.download('averaged_perceptron_tagger')\n",
    "nltk.download('stopwords')"
   ]
  },
  {
   "cell_type": "code",
   "execution_count": 11,
   "id": "50fc0d01",
   "metadata": {
    "colab": {
     "base_uri": "https://localhost:8080/"
    },
    "id": "50fc0d01",
    "outputId": "248d9252-36bf-4fd2-fe23-67de29d0a3c2"
   },
   "outputs": [
    {
     "name": "stdout",
     "output_type": "stream",
     "text": [
      "                 id                                       comment_text  toxic  \\\n",
      "0  0000997932d777bf  Explanation\\nWhy the edits made under my usern...      0   \n",
      "1  000103f0d9cfb60f  D'aww! He matches this background colour I'm s...      0   \n",
      "2  000113f07ec002fd  Hey man, I'm really not trying to edit war. It...      0   \n",
      "3  0001b41b1c6bb37e  \"\\nMore\\nI can't make any real suggestions on ...      0   \n",
      "4  0001d958c54c6e35  You, sir, are my hero. Any chance you remember...      0   \n",
      "\n",
      "   severe_toxic  obscene  threat  insult  identity_hate  \\\n",
      "0             0        0       0       0              0   \n",
      "1             0        0       0       0              0   \n",
      "2             0        0       0       0              0   \n",
      "3             0        0       0       0              0   \n",
      "4             0        0       0       0              0   \n",
      "\n",
      "                                      processed_text  \n",
      "0  explan edit made usernam hardcor metallica fan...  \n",
      "1  aww match background colour seem stuck thank t...  \n",
      "2  hey man realli tri edit war guy constant remov...  \n",
      "3  make real suggest improv wonder section statis...  \n",
      "4                         sir hero chanc rememb page  \n",
      "Distribution of each toxicity class after preprocessing:\n",
      "toxic            15294\n",
      "severe_toxic      1595\n",
      "obscene           8449\n",
      "threat             478\n",
      "insult            7877\n",
      "identity_hate     1405\n",
      "dtype: int64\n"
     ]
    }
   ],
   "source": [
    "# Preprocess the text data\n",
    "def preprocess_text(text):\n",
    "    # Remove URLs using regular expression\n",
    "    text = re.sub(r\"http\\S+|www\\S+|https\\S+\", '', text, flags=re.MULTILINE)\n",
    "\n",
    "    # Convert text to lowercase\n",
    "    text = text.lower()\n",
    "\n",
    "    # Remove non-alphanumeric characters and keep only letters and numbers\n",
    "    text = re.sub(r'[^a-zA-Z0-9]', ' ', text)\n",
    "\n",
    "    # Remove stopwords\n",
    "    stop_words = set(stopwords.words('english'))\n",
    "    words = text.split()\n",
    "    words = [word for word in words if word not in stop_words]\n",
    "    text = ' '.join(words)\n",
    "\n",
    "    # Perform stemming using Snowball stemmer\n",
    "    stemmer = SnowballStemmer(\"english\")\n",
    "    words = text.split()\n",
    "    words = [stemmer.stem(word) for word in words]\n",
    "\n",
    "    # Perform lemmatization using WordNet lemmatizer\n",
    "    lemmatizer = WordNetLemmatizer()\n",
    "    words = [lemmatizer.lemmatize(word) for word in words]\n",
    "\n",
    "    # Handle specific cases where lemmatization might cause issues\n",
    "    words = [word if word != \"ca\" else \"can\" for word in words]\n",
    "    words = [word if word != \"wo\" else \"will\" for word in words]\n",
    "\n",
    "    # Join the processed words back to form the preprocessed text\n",
    "    text = ' '.join(words)\n",
    "\n",
    "    return text\n",
    "\n",
    "# Apply preprocessing to the text data in the train dataset\n",
    "train_data['processed_text'] = train_data['comment_text'].apply(preprocess_text)\n",
    "\n",
    "# Display the first few rows of the processed dataset\n",
    "print(train_data.head())\n",
    "\n",
    "# Analyze the distribution of each toxicity class after preprocessing\n",
    "toxicity_counts = train_data[toxicity_classes].sum()\n",
    "print(\"Distribution of each toxicity class after preprocessing:\")\n",
    "print(toxicity_counts)"
   ]
  },
  {
   "cell_type": "code",
   "execution_count": 12,
   "id": "6d65b154",
   "metadata": {
    "colab": {
     "base_uri": "https://localhost:8080/"
    },
    "id": "6d65b154",
    "outputId": "281a2110-f363-4351-9e54-5d40ae76372d"
   },
   "outputs": [
    {
     "name": "stdout",
     "output_type": "stream",
     "text": [
      "                 id                                       comment_text  toxic  \\\n",
      "0  0000997932d777bf  Explanation\\nWhy the edits made under my usern...      0   \n",
      "1  000103f0d9cfb60f  D'aww! He matches this background colour I'm s...      0   \n",
      "2  000113f07ec002fd  Hey man, I'm really not trying to edit war. It...      0   \n",
      "3  0001b41b1c6bb37e  \"\\nMore\\nI can't make any real suggestions on ...      0   \n",
      "4  0001d958c54c6e35  You, sir, are my hero. Any chance you remember...      0   \n",
      "\n",
      "   severe_toxic  obscene  threat  insult  identity_hate  \\\n",
      "0             0        0       0       0              0   \n",
      "1             0        0       0       0              0   \n",
      "2             0        0       0       0              0   \n",
      "3             0        0       0       0              0   \n",
      "4             0        0       0       0              0   \n",
      "\n",
      "                                      processed_text  \n",
      "0  explan edit made usernam hardcor metallica fan...  \n",
      "1  aww match background colour seem stuck thank t...  \n",
      "2  hey man realli tri edit war guy constant remov...  \n",
      "3  make real suggest improv wonder section statis...  \n",
      "4                         sir hero chanc rememb page  \n"
     ]
    }
   ],
   "source": [
    "# Display the first few rows of the processed dataset\n",
    "print(train_data.head())"
   ]
  },
  {
   "cell_type": "code",
   "execution_count": 13,
   "id": "50c4bb9e",
   "metadata": {
    "colab": {
     "base_uri": "https://localhost:8080/"
    },
    "id": "50c4bb9e",
    "outputId": "76317655-11f1-441b-ae1f-f305d566e7db"
   },
   "outputs": [
    {
     "name": "stdout",
     "output_type": "stream",
     "text": [
      "Distribution of each toxicity class after preprocessing:\n",
      "toxic            15294\n",
      "severe_toxic      1595\n",
      "obscene           8449\n",
      "threat             478\n",
      "insult            7877\n",
      "identity_hate     1405\n",
      "dtype: int64\n"
     ]
    }
   ],
   "source": [
    "# Analyze the distribution of each toxicity class after preprocessing\n",
    "toxicity_counts = train_data[toxicity_classes].sum()\n",
    "print(\"Distribution of each toxicity class after preprocessing:\")\n",
    "print(toxicity_counts)"
   ]
  },
  {
   "cell_type": "code",
   "execution_count": 14,
   "id": "ef38d548",
   "metadata": {
    "id": "ef38d548"
   },
   "outputs": [],
   "source": [
    "# Split the data into training and testing sets\n",
    "X = train_data['processed_text']\n",
    "y = train_data[toxicity_classes]"
   ]
  },
  {
   "cell_type": "code",
   "execution_count": 15,
   "id": "f07cd448",
   "metadata": {
    "colab": {
     "base_uri": "https://localhost:8080/"
    },
    "id": "f07cd448",
    "outputId": "4ec2c0a7-f6c3-48fd-d0fd-032189b4505b"
   },
   "outputs": [
    {
     "name": "stdout",
     "output_type": "stream",
     "text": [
      "Training set shape - X_train: (127656,) y_train: (127656, 6)\n",
      "Testing set shape - X_test: (31915,) y_test: (31915, 6)\n"
     ]
    }
   ],
   "source": [
    "# Split the data using train_test_split\n",
    "# We will use 80% of the data for training and 20% for testing\n",
    "X_train, X_test, y_train, y_test = train_test_split(X, y, test_size=0.2, random_state=42)\n",
    "\n",
    "# Display the shape of the training and testing sets\n",
    "print(\"Training set shape - X_train:\", X_train.shape, \"y_train:\", y_train.shape)\n",
    "print(\"Testing set shape - X_test:\", X_test.shape, \"y_test:\", y_test.shape)"
   ]
  },
  {
   "cell_type": "code",
   "execution_count": 16,
   "id": "963e80e7",
   "metadata": {
    "id": "963e80e7"
   },
   "outputs": [],
   "source": [
    "# Method 1: Bag-of-Words\n",
    "vectorizer_bow = CountVectorizer(max_features=500)\n",
    "X_train_bow = vectorizer_bow.fit_transform(X_train)\n",
    "X_test_bow = vectorizer_bow.transform(X_test)"
   ]
  },
  {
   "cell_type": "code",
   "execution_count": 17,
   "id": "390d189d",
   "metadata": {
    "id": "390d189d"
   },
   "outputs": [],
   "source": [
    "# Method 2: TF-IDF\n",
    "vectorizer_tfidf = TfidfVectorizer(max_features=500)  \n",
    "X_train_tfidf = vectorizer_tfidf.fit_transform(X_train)\n",
    "X_test_tfidf = vectorizer_tfidf.transform(X_test)"
   ]
  },
  {
   "cell_type": "code",
   "execution_count": 63,
   "id": "4d3f9258",
   "metadata": {
    "id": "4d3f9258"
   },
   "outputs": [],
   "source": [
    "# Preprocess text data for Word2Vec (tokenize sentences)\n",
    "sentences = [sentence.split() for sentence in X_train]\n",
    "sentences_test = [sentence.split() for sentence in X_test]\n",
    "\n",
    "# Create and train Word2Vec model\n",
    "word2vec_model = Word2Vec(sentences, vector_size=100, window=5, min_count=1, workers=4)\n",
    "\n",
    "# Generate Word2Vec embeddings for training set\n",
    "X_train_word2vec = []\n",
    "for sentence in sentences:\n",
    "    embeddings = [word2vec_model.wv[word] for word in sentence if word in word2vec_model.wv]\n",
    "    if embeddings:\n",
    "        sentence_embedding = np.mean(embeddings, axis=0)\n",
    "        X_train_word2vec.append(sentence_embedding)\n",
    "    else:\n",
    "        # If no word in the sentence has a vector representation, we can use a default vector or skip the sentence.\n",
    "        # For simplicity, we'll use a zero vector.\n",
    "        X_train_word2vec.append(np.zeros(word2vec_model.vector_size))\n",
    "\n",
    "X_train_word2vec = np.array(X_train_word2vec)\n",
    "\n",
    "# Generate Word2Vec embeddings for testing set\n",
    "X_test_word2vec = []\n",
    "for sentence in sentences_test:\n",
    "    embeddings = [word2vec_model.wv[word] for word in sentence if word in word2vec_model.wv]\n",
    "    if embeddings:\n",
    "        sentence_embedding = np.mean(embeddings, axis=0)\n",
    "        X_test_word2vec.append(sentence_embedding)\n",
    "    else:\n",
    "        X_test_word2vec.append(np.zeros(word2vec_model.vector_size))\n",
    "\n",
    "X_test_word2vec = np.array(X_test_word2vec)"
   ]
  },
  {
   "cell_type": "code",
   "execution_count": 64,
   "id": "6f7a0570",
   "metadata": {
    "colab": {
     "base_uri": "https://localhost:8080/"
    },
    "id": "6f7a0570",
    "outputId": "574543d2-d3d5-4318-9643-b1b76ecb79cd"
   },
   "outputs": [
    {
     "name": "stdout",
     "output_type": "stream",
     "text": [
      "Bag-of-Words - X_train: (127656, 500) X_test: (31915, 500)\n",
      "TF-IDF - X_train: (127656, 500) X_test: (31915, 500)\n",
      "Word2Vec - X_train: 127656 X_test: 31915\n"
     ]
    }
   ],
   "source": [
    "# Display the shapes of the extracted features\n",
    "print(\"Bag-of-Words - X_train:\", X_train_bow.shape, \"X_test:\", X_test_bow.shape)\n",
    "print(\"TF-IDF - X_train:\", X_train_tfidf.shape, \"X_test:\", X_test_tfidf.shape)\n",
    "print(\"Word2Vec - X_train:\", len(X_train_word2vec), \"X_test:\", len(X_test_word2vec))"
   ]
  },
  {
   "cell_type": "code",
   "execution_count": 19,
   "id": "2ff3f887",
   "metadata": {},
   "outputs": [
    {
     "name": "stdout",
     "output_type": "stream",
     "text": [
      "Epoch 1/5\n",
      "7979/7979 [==============================] - 75s 9ms/step - loss: 0.0800 - accuracy: 0.9798\n",
      "Epoch 2/5\n",
      "7979/7979 [==============================] - 74s 9ms/step - loss: 0.0720 - accuracy: 0.9776\n",
      "Epoch 3/5\n",
      "7979/7979 [==============================] - 73s 9ms/step - loss: 0.0695 - accuracy: 0.9822\n",
      "Epoch 4/5\n",
      "7979/7979 [==============================] - 76s 9ms/step - loss: 0.0671 - accuracy: 0.9753\n",
      "Epoch 5/5\n",
      "7979/7979 [==============================] - 73s 9ms/step - loss: 0.0641 - accuracy: 0.9647\n",
      "998/998 [==============================] - 8s 7ms/step\n",
      "\n",
      "Feedforward Neural Network:\n",
      "Accuracy: 0.9102616324612252\n",
      "F1-Score: 0.5858825214609898\n",
      "Classification Report:\n",
      "                precision    recall  f1-score   support\n",
      "\n",
      "        toxic       0.86      0.47      0.61      3056\n",
      " severe_toxic       0.54      0.16      0.25       321\n",
      "      obscene       0.89      0.58      0.71      1715\n",
      "       threat       0.50      0.14      0.21        74\n",
      "       insult       0.76      0.44      0.56      1614\n",
      "identity_hate       0.72      0.20      0.31       294\n",
      "\n",
      "    micro avg       0.83      0.46      0.59      7074\n",
      "    macro avg       0.71      0.33      0.44      7074\n",
      " weighted avg       0.82      0.46      0.59      7074\n",
      "  samples avg       0.04      0.04      0.04      7074\n",
      "\n"
     ]
    },
    {
     "name": "stderr",
     "output_type": "stream",
     "text": [
      "C:\\Users\\KIIT\\anaconda3\\lib\\site-packages\\sklearn\\metrics\\_classification.py:1344: UndefinedMetricWarning: Precision and F-score are ill-defined and being set to 0.0 in samples with no predicted labels. Use `zero_division` parameter to control this behavior.\n",
      "  _warn_prf(average, modifier, msg_start, len(result))\n",
      "C:\\Users\\KIIT\\anaconda3\\lib\\site-packages\\sklearn\\metrics\\_classification.py:1344: UndefinedMetricWarning: Recall and F-score are ill-defined and being set to 0.0 in samples with no true labels. Use `zero_division` parameter to control this behavior.\n",
      "  _warn_prf(average, modifier, msg_start, len(result))\n"
     ]
    }
   ],
   "source": [
    "import pandas as pd\n",
    "import numpy as np\n",
    "from sklearn.model_selection import train_test_split\n",
    "from sklearn.feature_extraction.text import TfidfVectorizer\n",
    "from sklearn.multioutput import MultiOutputClassifier\n",
    "from sklearn.ensemble import RandomForestClassifier\n",
    "from sklearn.metrics import accuracy_score, f1_score, classification_report\n",
    "from keras.models import Sequential\n",
    "from keras.layers import Dense\n",
    "from keras.optimizers import Adam\n",
    "\n",
    "# Neural Networks - Feedforward Neural Network\n",
    "# Build the Neural Network\n",
    "model_nn = Sequential()\n",
    "model_nn.add(Dense(128, activation='relu', input_shape=(X_train_tfidf.shape[1],)))\n",
    "model_nn.add(Dense(64, activation='relu'))\n",
    "model_nn.add(Dense(len(toxicity_classes), activation='sigmoid'))\n",
    "\n",
    "# Compile the model\n",
    "model_nn.compile(optimizer=Adam(learning_rate=0.001), loss='binary_crossentropy', metrics=['accuracy'])\n",
    "\n",
    "# Train the model on the TF-IDF features\n",
    "model_nn.fit(X_train_tfidf.toarray(), np.array(y_train), epochs=5, batch_size=16, verbose=1)\n",
    "\n",
    "# Predict on the test set\n",
    "y_pred_nn = model_nn.predict(X_test_tfidf.toarray())\n",
    "y_pred_nn[y_pred_nn >= 0.5] = 1\n",
    "y_pred_nn[y_pred_nn < 0.5] = 0\n",
    "\n",
    "# Evaluate the performance of the model\n",
    "print(\"\\nFeedforward Neural Network:\")\n",
    "print(\"Accuracy:\", accuracy_score(y_test, y_pred_nn))\n",
    "print(\"F1-Score:\", f1_score(y_test, y_pred_nn, average='weighted'))\n",
    "print(\"Classification Report:\\n\", classification_report(y_test, y_pred_nn, target_names=toxicity_classes))"
   ]
  },
  {
   "cell_type": "code",
   "execution_count": null,
   "id": "70a2cfa9",
   "metadata": {},
   "outputs": [
    {
     "name": "stdout",
     "output_type": "stream",
     "text": [
      "Epoch 1/5\n",
      "7979/7979 [==============================] - 8059s 1s/step - loss: 0.1422 - accuracy: 0.9924\n",
      "Epoch 2/5\n",
      "7979/7979 [==============================] - 11895s 1s/step - loss: 0.1413 - accuracy: 0.9942\n",
      "Epoch 3/5\n",
      "1616/7979 [=====>........................] - ETA: 2:21:07 - loss: 0.1426 - accuracy: 0.9942"
     ]
    }
   ],
   "source": [
    "import pandas as pd\n",
    "import numpy as np\n",
    "from sklearn.model_selection import train_test_split\n",
    "from sklearn.feature_extraction.text import TfidfVectorizer\n",
    "from sklearn.multioutput import MultiOutputClassifier\n",
    "from sklearn.ensemble import RandomForestClassifier\n",
    "from sklearn.linear_model import LogisticRegression\n",
    "from sklearn.metrics import accuracy_score, f1_score, classification_report\n",
    "from keras.models import Sequential\n",
    "from keras.layers import Dense, LSTM, Embedding\n",
    "from keras.optimizers import Adam\n",
    "from sklearn.ensemble import StackingClassifier\n",
    "from gensim.models import Word2Vec\n",
    "\n",
    "# Deep learning model - LSTM\n",
    "# Build the LSTM model\n",
    "model_lstm = Sequential()\n",
    "model_lstm.add(Embedding(input_dim=10000, output_dim=128, input_length=X_train_tfidf.shape[1]))\n",
    "model_lstm.add(LSTM(128))\n",
    "model_lstm.add(Dense(len(toxicity_classes), activation='sigmoid'))\n",
    "\n",
    "# Compile the model\n",
    "model_lstm.compile(optimizer=Adam(learning_rate=0.001), loss='binary_crossentropy', metrics=['accuracy'])\n",
    "\n",
    "# Train the model on the TF-IDF features\n",
    "model_lstm.fit(X_train_tfidf.toarray(), np.array(y_train), epochs=5, batch_size=16, verbose=1)\n",
    "\n",
    "# Predict on the test set\n",
    "y_pred_lstm = model_lstm.predict(X_test_tfidf.toarray())\n",
    "y_pred_lstm[y_pred_lstm >= 0.5] = 1\n",
    "y_pred_lstm[y_pred_lstm < 0.5] = 0\n",
    "\n",
    "# Evaluate the performance of the model\n",
    "print(\"\\nLSTM:\")\n",
    "print(\"Accuracy:\", accuracy_score(y_test, y_pred_lstm))\n",
    "print(\"F1-Score:\", f1_score(y_test, y_pred_lstm, average='weighted'))\n",
    "print(\"Classification Report:\\n\", classification_report(y_test, y_pred_lstm, target_names=toxicity_classes))"
   ]
  },
  {
   "cell_type": "code",
   "execution_count": null,
   "id": "072855f6",
   "metadata": {},
   "outputs": [],
   "source": []
  },
  {
   "cell_type": "code",
   "execution_count": 22,
   "id": "35a68f23",
   "metadata": {
    "id": "35a68f23"
   },
   "outputs": [
    {
     "name": "stdout",
     "output_type": "stream",
     "text": [
      "Random Forest Classifier:\n",
      "Accuracy: 0.9096036346545512\n",
      "F1-Score: 0.5817766819505579\n",
      "Classification Report:\n",
      "                precision    recall  f1-score   support\n",
      "\n",
      "        toxic       0.86      0.47      0.61      3056\n",
      " severe_toxic       0.53      0.13      0.21       321\n",
      "      obscene       0.86      0.61      0.71      1715\n",
      "       threat       0.38      0.07      0.11        74\n",
      "       insult       0.73      0.45      0.56      1614\n",
      "identity_hate       0.65      0.15      0.24       294\n",
      "\n",
      "    micro avg       0.82      0.46      0.59      7074\n",
      "    macro avg       0.67      0.31      0.41      7074\n",
      " weighted avg       0.80      0.46      0.58      7074\n",
      "  samples avg       0.04      0.04      0.04      7074\n",
      "\n"
     ]
    },
    {
     "name": "stderr",
     "output_type": "stream",
     "text": [
      "C:\\Users\\KIIT\\anaconda3\\lib\\site-packages\\sklearn\\metrics\\_classification.py:1344: UndefinedMetricWarning: Precision and F-score are ill-defined and being set to 0.0 in samples with no predicted labels. Use `zero_division` parameter to control this behavior.\n",
      "  _warn_prf(average, modifier, msg_start, len(result))\n",
      "C:\\Users\\KIIT\\anaconda3\\lib\\site-packages\\sklearn\\metrics\\_classification.py:1344: UndefinedMetricWarning: Recall and F-score are ill-defined and being set to 0.0 in samples with no true labels. Use `zero_division` parameter to control this behavior.\n",
      "  _warn_prf(average, modifier, msg_start, len(result))\n"
     ]
    }
   ],
   "source": [
    "import pandas as pd\n",
    "import numpy as np\n",
    "from sklearn.model_selection import train_test_split\n",
    "from sklearn.feature_extraction.text import TfidfVectorizer\n",
    "from sklearn.multioutput import MultiOutputClassifier\n",
    "from sklearn.ensemble import RandomForestClassifier\n",
    "from sklearn.metrics import accuracy_score, f1_score, classification_report\n",
    "from keras.models import Sequential\n",
    "from keras.layers import Dense\n",
    "from keras.optimizers import Adam\n",
    "\n",
    "# Problem Transformation Method - MultiOutputClassifier with RandomForestClassifier\n",
    "# Build the Random Forest Classifier\n",
    "classifier_rf = MultiOutputClassifier(RandomForestClassifier(n_estimators=100, random_state=42))\n",
    "\n",
    "# Train the model on the TF-IDF features\n",
    "classifier_rf.fit(X_train_tfidf, y_train)\n",
    "\n",
    "# Predict on the test set\n",
    "y_pred_rf = classifier_rf.predict(X_test_tfidf)\n",
    "\n",
    "# Evaluate the performance of the model\n",
    "print(\"Random Forest Classifier:\")\n",
    "print(\"Accuracy:\", accuracy_score(y_test, y_pred_rf))\n",
    "print(\"F1-Score:\", f1_score(y_test, y_pred_rf, average='weighted'))\n",
    "print(\"Classification Report:\\n\", classification_report(y_test, y_pred_rf, target_names=toxicity_classes))"
   ]
  },
  {
   "cell_type": "code",
   "execution_count": 23,
   "id": "6acde1ac",
   "metadata": {},
   "outputs": [
    {
     "name": "stdout",
     "output_type": "stream",
     "text": [
      "Binary Relevance with Naive Bayes:\n",
      "Accuracy: 0.8993576688077707\n",
      "F1-Score: 0.552048540294577\n",
      "Classification Report:\n",
      "                precision    recall  f1-score   support\n",
      "\n",
      "        toxic       0.96      0.37      0.53      3056\n",
      " severe_toxic       0.34      0.57      0.43       321\n",
      "      obscene       0.84      0.56      0.67      1715\n",
      "       threat       0.04      0.30      0.07        74\n",
      "       insult       0.69      0.49      0.57      1614\n",
      "identity_hate       0.14      0.54      0.23       294\n",
      "\n",
      "    micro avg       0.57      0.46      0.51      7074\n",
      "    macro avg       0.50      0.47      0.42      7074\n",
      " weighted avg       0.80      0.46      0.55      7074\n",
      "  samples avg       0.02      0.03      0.03      7074\n",
      "\n"
     ]
    },
    {
     "name": "stderr",
     "output_type": "stream",
     "text": [
      "C:\\Users\\KIIT\\anaconda3\\lib\\site-packages\\sklearn\\metrics\\_classification.py:1344: UndefinedMetricWarning: Precision and F-score are ill-defined and being set to 0.0 in samples with no predicted labels. Use `zero_division` parameter to control this behavior.\n",
      "  _warn_prf(average, modifier, msg_start, len(result))\n",
      "C:\\Users\\KIIT\\anaconda3\\lib\\site-packages\\sklearn\\metrics\\_classification.py:1344: UndefinedMetricWarning: Recall and F-score are ill-defined and being set to 0.0 in samples with no true labels. Use `zero_division` parameter to control this behavior.\n",
      "  _warn_prf(average, modifier, msg_start, len(result))\n"
     ]
    }
   ],
   "source": [
    "import pandas as pd\n",
    "from sklearn.model_selection import train_test_split\n",
    "from sklearn.feature_extraction.text import TfidfVectorizer\n",
    "from sklearn.naive_bayes import MultinomialNB\n",
    "from sklearn.multioutput import ClassifierChain\n",
    "from sklearn.metrics import accuracy_score, f1_score, classification_report\n",
    "\n",
    "# Adapted Algorithm (Binary Relevance with Naive Bayes)\n",
    "# Build the Naive Bayes classifier\n",
    "classifier_nb = MultinomialNB()\n",
    "\n",
    "# Using Classifier Chain for Binary Relevance\n",
    "classifier_chain = ClassifierChain(classifier_nb)\n",
    "\n",
    "# Train the model on the TF-IDF features\n",
    "classifier_chain.fit(X_train_tfidf, y_train)\n",
    "\n",
    "# Predict on the test set\n",
    "y_pred_nb = classifier_chain.predict(X_test_tfidf)\n",
    "\n",
    "# Evaluate the performance of the model\n",
    "print(\"Binary Relevance with Naive Bayes:\")\n",
    "print(\"Accuracy:\", accuracy_score(y_test, y_pred_nb))\n",
    "print(\"F1-Score:\", f1_score(y_test, y_pred_nb, average='weighted'))\n",
    "print(\"Classification Report:\\n\", classification_report(y_test, y_pred_nb, target_names=toxicity_classes))"
   ]
  },
  {
   "cell_type": "code",
   "execution_count": 46,
   "id": "59fa33da",
   "metadata": {
    "id": "59fa33da"
   },
   "outputs": [
    {
     "name": "stdout",
     "output_type": "stream",
     "text": [
      "Ensemble Algorithm - Logistic Regression:\n",
      "Accuracy: 0.9107942973523422\n",
      "F1-Score: 0.5727012832796251\n",
      "Classification Report:\n",
      "                precision    recall  f1-score   support\n",
      "\n",
      "        toxic       0.88      0.45      0.60      3056\n",
      " severe_toxic       0.56      0.18      0.28       321\n",
      "      obscene       0.91      0.56      0.69      1715\n",
      "       threat       0.57      0.11      0.18        74\n",
      "       insult       0.78      0.40      0.53      1614\n",
      "identity_hate       0.74      0.17      0.27       294\n",
      "\n",
      "    micro avg       0.85      0.44      0.58      7074\n",
      "    macro avg       0.74      0.31      0.43      7074\n",
      " weighted avg       0.84      0.44      0.57      7074\n",
      "  samples avg       0.04      0.04      0.04      7074\n",
      "\n"
     ]
    },
    {
     "name": "stderr",
     "output_type": "stream",
     "text": [
      "C:\\Users\\KIIT\\anaconda3\\lib\\site-packages\\sklearn\\metrics\\_classification.py:1344: UndefinedMetricWarning: Precision and F-score are ill-defined and being set to 0.0 in samples with no predicted labels. Use `zero_division` parameter to control this behavior.\n",
      "  _warn_prf(average, modifier, msg_start, len(result))\n",
      "C:\\Users\\KIIT\\anaconda3\\lib\\site-packages\\sklearn\\metrics\\_classification.py:1344: UndefinedMetricWarning: Recall and F-score are ill-defined and being set to 0.0 in samples with no true labels. Use `zero_division` parameter to control this behavior.\n",
      "  _warn_prf(average, modifier, msg_start, len(result))\n"
     ]
    }
   ],
   "source": [
    "import pandas as pd\n",
    "import numpy as np\n",
    "from sklearn.model_selection import train_test_split\n",
    "from sklearn.feature_extraction.text import TfidfVectorizer\n",
    "from sklearn.multioutput import MultiOutputClassifier\n",
    "from sklearn.linear_model import LogisticRegression\n",
    "from sklearn.metrics import accuracy_score, f1_score, classification_report\n",
    "\n",
    "# Ensemble Algorithm - MultiOutputClassifier with Logistic Regression\n",
    "# Create a MultiOutputClassifier with Logistic Regression as the base classifier\n",
    "classifier_lr = MultiOutputClassifier(LogisticRegression())\n",
    "\n",
    "# Train the model on the TF-IDF features\n",
    "classifier_lr.fit(X_train_tfidf, y_train)\n",
    "\n",
    "# Predict on the test set\n",
    "y_pred_lr = classifier_lr.predict(X_test_tfidf)\n",
    "\n",
    "# Evaluate the performance of the model\n",
    "print(\"Ensemble Algorithm - MultiOutputClassifier with Logistic Regression :\")\n",
    "print(\"Accuracy:\", accuracy_score(y_test, y_pred_lr))\n",
    "print(\"F1-Score:\", f1_score(y_test, y_pred_lr, average='weighted'))\n",
    "print(\"Classification Report:\\n\", classification_report(y_test, y_pred_lr, target_names=toxicity_classes))"
   ]
  },
  {
   "cell_type": "code",
   "execution_count": 31,
   "id": "15f34b6a",
   "metadata": {},
   "outputs": [],
   "source": [
    "#Concluding :-"
   ]
  },
  {
   "cell_type": "code",
   "execution_count": 48,
   "id": "5cb89515",
   "metadata": {
    "id": "5cb89515"
   },
   "outputs": [
    {
     "name": "stdout",
     "output_type": "stream",
     "text": [
      "Problem Transformation Method - MultiOutputClassifier with RandomForestClassifier :\n",
      "Accuracy: 0.9096036346545512\n",
      "F1-Score: 0.5817766819505579\n",
      "Ensemble Algorithm - MultiOutputClassifier with Logistic Regression :\n",
      "Accuracy: 0.9107942973523422\n",
      "F1-Score: 0.5727012832796251\n",
      "Adapted Algorithm (Binary Relevance with Naive Bayes) :\n",
      "Accuracy: 0.8993576688077707\n",
      "F1-Score: 0.552048540294577\n",
      "Neural Networks - Feedforward Neural Network :\n",
      "Accuracy: 0.9102616324612252\n",
      "F1-Score: 0.5858825214609898\n",
      "Deep learning model - LSTM :\n",
      "Accuracy: 0.898355005483315\n",
      "F1-Score: 0.0\n"
     ]
    }
   ],
   "source": [
    "# Problem Transformation Method - MultiOutputClassifier with RandomForestClassifier\n",
    "print(\"Problem Transformation Method - MultiOutputClassifier with RandomForestClassifier :\")\n",
    "print(\"Accuracy:\", accuracy_score(y_test, y_pred_rf))\n",
    "print(\"F1-Score:\", f1_score(y_test, y_pred_rf, average='weighted'))\n",
    "\n",
    "# Ensemble Algorithm - MultiOutputClassifier with Logistic Regression \n",
    "print(\"Ensemble Algorithm - MultiOutputClassifier with Logistic Regression :\")\n",
    "print(\"Accuracy:\", accuracy_score(y_test, y_pred_lr))\n",
    "print(\"F1-Score:\", f1_score(y_test, y_pred_lr, average='weighted'))\n",
    "\n",
    "# Adapted Algorithm (Binary Relevance with Naive Bayes)\n",
    "print(\"Adapted Algorithm (Binary Relevance with Naive Bayes) :\")\n",
    "print(\"Accuracy:\", accuracy_score(y_test, y_pred_nb))\n",
    "print(\"F1-Score:\", f1_score(y_test, y_pred_nb, average='weighted'))\n",
    "\n",
    "# Neural Networks - Feedforward Neural Network\n",
    "print(\"Neural Networks - Feedforward Neural Network :\")\n",
    "print(\"Accuracy:\", accuracy_score(y_test, y_pred_nn))\n",
    "print(\"F1-Score:\", f1_score(y_test, y_pred_nn, average='weighted'))\n",
    "\n",
    "# Deep learning model - LSTM\n",
    "print(\"Deep learning model - LSTM :\")\n",
    "print(\"Accuracy:\", accuracy_score(y_test, y_pred_lstm))\n",
    "print(\"F1-Score:\", f1_score(y_test, y_pred_lstm, average='weighted'))"
   ]
  },
  {
   "cell_type": "code",
   "execution_count": 60,
   "id": "c46758a8",
   "metadata": {
    "id": "c46758a8"
   },
   "outputs": [],
   "source": [
    "#The best model is Logistic Regression"
   ]
  },
  {
   "cell_type": "code",
   "execution_count": 59,
   "id": "892fdf57",
   "metadata": {
    "id": "892fdf57"
   },
   "outputs": [
    {
     "name": "stderr",
     "output_type": "stream",
     "text": [
      "C:\\Users\\KIIT\\AppData\\Local\\Temp\\ipykernel_5904\\821455546.py:40: UserWarning: Tight layout not applied. The bottom and top margins cannot be made large enough to accommodate all axes decorations.\n",
      "  plt.tight_layout()\n"
     ]
    },
    {
     "data": {
      "image/png": "[encoded data removed]",
      "text/plain": [
       "<Figure size 1000x600 with 1 Axes>"
      ]
     },
     "metadata": {},
     "output_type": "display_data"
    },
    {
     "name": "stderr",
     "output_type": "stream",
     "text": [
      "C:\\Users\\KIIT\\AppData\\Local\\Temp\\ipykernel_5904\\821455546.py:50: UserWarning: Tight layout not applied. The bottom and top margins cannot be made large enough to accommodate all axes decorations.\n",
      "  plt.tight_layout()\n"
     ]
    },
    {
     "data": {
      "image/png": "[encoded data removed]",
      "text/plain": [
       "<Figure size 1000x600 with 1 Axes>"
      ]
     },
     "metadata": {},
     "output_type": "display_data"
    }
   ],
   "source": [
    "import pandas as pd\n",
    "import numpy as np\n",
    "import matplotlib.pyplot as plt\n",
    "from sklearn.model_selection import train_test_split\n",
    "from sklearn.feature_extraction.text import TfidfVectorizer\n",
    "from sklearn.multioutput import MultiOutputClassifier\n",
    "from sklearn.ensemble import RandomForestClassifier\n",
    "from sklearn.linear_model import LogisticRegression\n",
    "from sklearn.metrics import accuracy_score, f1_score, classification_report\n",
    "from keras.models import Sequential\n",
    "from keras.layers import Dense, LSTM, Embedding\n",
    "from keras.optimizers import Adam\n",
    "from sklearn.ensemble import StackingClassifier\n",
    "\n",
    "models = ['Problem Transformation Method - MultiOutputClassifier with RandomForestClassifier', 'Ensemble Algorithm - MultiOutputClassifier with Logistic Regression', 'Adapted Algorithm (Binary Relevance with Naive Bayes)' , 'Feedforward Neural Network', 'LSTM']\n",
    "accuracies = []\n",
    "f1_scores = []\n",
    "\n",
    "# Append accuracy and F1-score of each model\n",
    "accuracies.append(accuracy_score(y_test, y_pred_rf))\n",
    "accuracies.append(accuracy_score(y_test, y_pred_lr))\n",
    "accuracies.append(accuracy_score(y_test, y_pred_nb))\n",
    "accuracies.append(accuracy_score(y_test, y_pred_nn))\n",
    "accuracies.append(accuracy_score(y_test, y_pred_lstm))\n",
    "\n",
    "f1_scores.append(f1_score(y_test, y_pred_rf, average='weighted'))\n",
    "f1_scores.append(f1_score(y_test, y_pred_lr, average='weighted'))\n",
    "f1_scores.append(f1_score(y_test, y_pred_nb, average='weighted'))\n",
    "f1_scores.append(f1_score(y_test, y_pred_nn, average='weighted'))\n",
    "f1_scores.append(f1_score(y_test, y_pred_lstm, average='weighted'))\n",
    "\n",
    "# Plot bar graphs to compare accuracy and F1-score of each model\n",
    "plt.figure(figsize=(10, 6))\n",
    "plt.bar(models, accuracies, color='skyblue')\n",
    "plt.title('Accuracy Comparison of Different Models')\n",
    "plt.xlabel('Model')\n",
    "plt.ylabel('Accuracy')\n",
    "plt.ylim(0.87, 0.93)\n",
    "plt.xticks(rotation=90)\n",
    "plt.tight_layout()\n",
    "plt.show()\n",
    "\n",
    "plt.figure(figsize=(10, 6))\n",
    "plt.bar(models, f1_scores, color='lightgreen')\n",
    "plt.title('F1-Score Comparison of Different Models')\n",
    "plt.xlabel('Model')\n",
    "plt.ylabel('F1-Score')\n",
    "plt.ylim(0.0, 0.6)\n",
    "plt.xticks(rotation=90)\n",
    "plt.tight_layout()\n",
    "plt.show()"
   ]
  },
  {
   "cell_type": "code",
   "execution_count": 26,
   "id": "4ff1340b",
   "metadata": {},
   "outputs": [],
   "source": []
  },
  {
   "cell_type": "code",
   "execution_count": 27,
   "id": "d23e6135",
   "metadata": {
    "id": "d23e6135"
   },
   "outputs": [],
   "source": []
  },
  {
   "cell_type": "code",
   "execution_count": null,
   "id": "08a170ce",
   "metadata": {
    "id": "08a170ce"
   },
   "outputs": [],
   "source": []
  },
  {
   "cell_type": "code",
   "execution_count": null,
   "id": "ea8bd6ec",
   "metadata": {
    "id": "ea8bd6ec"
   },
   "outputs": [],
   "source": []
  },
  {
   "cell_type": "code",
   "execution_count": null,
   "id": "5c2e7d4e",
   "metadata": {
    "id": "5c2e7d4e"
   },
   "outputs": [],
   "source": []
  }
 ],
 "metadata": {
  "accelerator": "TPU",
  "colab": {
   "provenance": []
  },
  "kernelspec": {
   "display_name": "Python 3 (ipykernel)",
   "language": "python",
   "name": "python3"
  },
  "language_info": {
   "codemirror_mode": {
    "name": "ipython",
    "version": 3
   },
   "file_extension": ".py",
   "mimetype": "text/x-python",
   "name": "python",
   "nbconvert_exporter": "python",
   "pygments_lexer": "ipython3",
   "version": "3.9.16"
  }
 },
 "nbformat": 4,
 "nbformat_minor": 5
}
